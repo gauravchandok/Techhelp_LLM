{
 "cells": [
  {
   "cell_type": "code",
   "execution_count": 27,
   "id": "59e1f98b",
   "metadata": {},
   "outputs": [],
   "source": [
    "import os\n",
    "import streamlit as st\n",
    "from langchain.document_loaders import TextLoader\n",
    "from langchain.text_splitter import CharacterTextSplitter\n",
    "from langchain_openai import OpenAIEmbeddings\n",
    "from langchain_community.vectorstores import FAISS\n",
    "from langchain.chains import ConversationalRetrievalChain\n",
    "from langchain.chat_models import ChatOpenAI\n",
    "from langchain.memory import ConversationBufferMemory\n",
    "from langchain.prompts import ChatPromptTemplate"
   ]
  },
  {
   "cell_type": "code",
   "execution_count": 28,
   "id": "824bb217",
   "metadata": {},
   "outputs": [],
   "source": [
    "# Set the API key\n",
    "api_key = os.getenv(\"OPENAI_API_KEY\")\n",
    "if not api_key:\n",
    "    st.error(\"Please set the OPENAI_API_KEY environment variable.\")"
   ]
  },
  {
   "cell_type": "code",
   "execution_count": 29,
   "id": "99de8b80",
   "metadata": {},
   "outputs": [],
   "source": [
    "#Saving file to disk> Load text file> Split the document into chunks\n",
    "\n",
    "def load_and_split_text_file(file):\n",
    "    with open(\"uploaded_file.txt\", \"wb\") as f:\n",
    "        f.write(file.getbuffer())\n",
    "    \n",
    "    loader = TextLoader(\"uploaded_file.txt\")\n",
    "    documents = loader.load()\n",
    "    \n",
    "    splitter = CharacterTextSplitter(separator=\"\\n\", chunk_size=200, chunk_overlap=20)\n",
    "    chunks = []\n",
    "    for doc in documents:\n",
    "        doc_chunks = splitter.split_text(doc.page_content)\n",
    "        chunks.extend(doc_chunks)\n",
    "    \n",
    "    return chunks"
   ]
  },
  {
   "cell_type": "code",
   "execution_count": 30,
   "id": "e699a04d",
   "metadata": {},
   "outputs": [],
   "source": [
    "def create_embeddings(chunks):\n",
    "    embedding_model = OpenAIEmbeddings(openai_api_key=api_key)\n",
    "    embeddings = embedding_model.embed_documents(chunks)\n",
    "    return embeddings, chunks"
   ]
  },
  {
   "cell_type": "code",
   "execution_count": 31,
   "id": "fdcaa302",
   "metadata": {},
   "outputs": [],
   "source": [
    "def create_faiss_store(embeddings, chunks):\n",
    "    faiss_index = FAISS.from_embeddings(embeddings, chunks)\n",
    "    return faiss_index"
   ]
  },
  {
   "cell_type": "code",
   "execution_count": 32,
   "id": "4123b4c6",
   "metadata": {},
   "outputs": [],
   "source": [
    "def get_retriever(faiss_index):\n",
    "    return faiss_index.as_retriever()"
   ]
  },
  {
   "cell_type": "code",
   "execution_count": 33,
   "id": "ec5256e3",
   "metadata": {},
   "outputs": [],
   "source": [
    "def main():\n",
    "    st.title(\"Upload a Text File and Query It\")\n",
    "\n",
    "    uploaded_file = st.file_uploader(\"Choose a text file\", type=[\"txt\"])\n",
    "\n",
    "    if uploaded_file is not None:\n",
    "        chunks = load_and_split_text_file(uploaded_file)\n",
    "        if chunks:\n",
    "            st.success(\"File successfully uploaded and processed!\")\n",
    "            st.write(\"Number of chunks loaded:\", len(chunks))\n",
    "\n",
    "            embeddings, chunk_texts = create_embeddings(chunks)\n",
    "            faiss_store = create_faiss_store(embeddings, chunk_texts)\n",
    "            retriever = get_retriever(faiss_store)\n",
    "            \n",
    "            st.write(\"Embeddings and FAISS store created successfully!\")\n",
    "\n",
    "            # Setting up the QA chain\n",
    "            llm = ChatOpenAI(model_name=\"gpt-4\", temperature=0, openai_api_key=api_key)\n",
    "            memory = ConversationBufferMemory(memory_key=\"chat_history\", return_messages=True)\n",
    "            qa_chain = ConversationalRetrievalChain.from_llm(llm=llm, retriever=retriever, memory=memory)\n",
    "\n",
    "            # Query input box\n",
    "            user_query = st.text_input(\"Ask a question about the document:\")\n",
    "\n",
    "            if user_query:\n",
    "                # Using the retriever to fetch relevant documents\n",
    "                result = qa_chain({\"query\": user_query})\n",
    "                response = result[\"result\"]\n",
    "\n",
    "                # Check if the response is relevant\n",
    "                if not response or \"I don't know\" in response:\n",
    "                    st.write(\"The document did not contain relevant information. Querying GPT model directly.\")\n",
    "                    # Fallback to GPT model directly\n",
    "                    gpt_response = llm({\"input\": user_query})[\"choices\"][0][\"message\"][\"content\"]\n",
    "                    st.write(\"GPT Response:\", gpt_response)\n",
    "                else:\n",
    "                    st.write(\"Response:\", response)\n",
    "        else:\n",
    "            st.error(\"No chunks were loaded.\")\n",
    "    else:\n",
    "        st.info(\"Please upload a text file.\")\n",
    "\n",
    "if __name__ == \"__main__\":\n",
    "    main()"
   ]
  },
  {
   "cell_type": "code",
   "execution_count": null,
   "id": "055e8df3",
   "metadata": {},
   "outputs": [],
   "source": []
  },
  {
   "cell_type": "code",
   "execution_count": null,
   "id": "de846fb0",
   "metadata": {},
   "outputs": [],
   "source": []
  },
  {
   "cell_type": "code",
   "execution_count": null,
   "id": "67003e98",
   "metadata": {},
   "outputs": [],
   "source": []
  }
 ],
 "metadata": {
  "kernelspec": {
   "display_name": "Python 3 (ipykernel)",
   "language": "python",
   "name": "python3"
  },
  "language_info": {
   "codemirror_mode": {
    "name": "ipython",
    "version": 3
   },
   "file_extension": ".py",
   "mimetype": "text/x-python",
   "name": "python",
   "nbconvert_exporter": "python",
   "pygments_lexer": "ipython3",
   "version": "3.11.7"
  }
 },
 "nbformat": 4,
 "nbformat_minor": 5
}
